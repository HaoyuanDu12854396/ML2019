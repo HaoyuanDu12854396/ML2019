{
  "nbformat": 4,
  "nbformat_minor": 0,
  "metadata": {
    "colab": {
      "name": "Untitled3.ipynb",
      "provenance": [],
      "include_colab_link": true
    },
    "kernelspec": {
      "name": "python3",
      "display_name": "Python 3"
    }
  },
  "cells": [
    {
      "cell_type": "markdown",
      "metadata": {
        "id": "view-in-github",
        "colab_type": "text"
      },
      "source": [
        "<a href=\"https://colab.research.google.com/github/HaoyuanDu12854396/ML2019/blob/master/Assignment%203%EF%BC%88question%201%EF%BC%89.ipynb\" target=\"_parent\"><img src=\"https://colab.research.google.com/assets/colab-badge.svg\" alt=\"Open In Colab\"/></a>"
      ]
    },
    {
      "cell_type": "markdown",
      "metadata": {
        "id": "UCLofW2d_QQe",
        "colab_type": "text"
      },
      "source": [
        "#Assignment 3 (Question 1)"
      ]
    },
    {
      "cell_type": "markdown",
      "metadata": {
        "id": "2UPkMr-9_THH",
        "colab_type": "text"
      },
      "source": [
        "##1.0 Introduction\n",
        "As a product of the deep development of the Internet in the Web 2.0 era, social media provides a platform for users to express their opinions. This interaction generates huge amounts of data, and the collection and analysis of relevant data will be a good idea for predicting how users can be converted to change their support. But there are still some challenges. In this regard, this report first analyses three challenges in solving this problem. Secondly, this report gives a brief description of the system design with reference to the current approaches. Finally, on the basis of the above analysis, the ethical and social consequences of this study are discussed."
      ]
    },
    {
      "cell_type": "markdown",
      "metadata": {
        "id": "_3lB-SdW_Xh7",
        "colab_type": "text"
      },
      "source": [
        "##2.0 Challenges\n",
        "###2.1 Technology challenge\n",
        "With the popularity of smart phones, social media is widely used and generates a lot of data. However, the traditional data management system cannot provide large-scale data services. Meanwhile, the diversity of social media makes the data generated on it diverse, which can influence the heterogeneity and availability of social media user messages. This requires taking into account structured and unstructured data. Therefore, it is necessary to have technologies to support rapid acquisition and pre-processing. Therefore, the technological challenges in dealing with social media messages are the large scale of storage, and the complexity of storage management.\n",
        "\n",
        "###2.2 Effectiveness challenges\n",
        "In the Internet era, any change will not last for a long time. The market will always be changing. The psychology of users is changing all the time, and the society is changing all the time. Therefore, the data obtained from social media must be fully utilized within the validity period; otherwise it will lose its due value.\n",
        "\n",
        "At the platform mechanism level, each social media platform has its own different rules. These imperceptible rules imperceptibly shape users' behavior on the platform. For example, the main features of Twitter platform are short length of tweets and fast update of hot spots. This is very different from Facebook, which results in users using Twitter mainly for information-driven purposes, while Facebook is mainly for relationship-driven purposes (Guo et al., 2011). The motivation and meaning behind users’ messages are different, so the data obtained on different social media cannot be directly treated equally."
      ]
    },
    {
      "cell_type": "markdown",
      "metadata": {
        "id": "o4N36MZ3_hqp",
        "colab_type": "text"
      },
      "source": [
        "##3.0 Description of system design\n",
        "The system is mainly designed from three aspects: social media data storage, data collection and data analysis. Firstly, in terms of data volume, the system needs to be able to store a large amount of historical data. The data scale has a growing trend. Also, the data formats are diverse, including unstructured data and structured data (Stander & Valle, 2017). In this regard, the system introduces a distributed storage system to meet the reliability and scalability requirements, while ensuring cost controllability."
      ]
    },
    {
      "cell_type": "markdown",
      "metadata": {
        "id": "UaXeTcUP_mbo",
        "colab_type": "text"
      },
      "source": [
        "##4.0 Ethical and social consequences\n",
        "With the wide application of social media in social life, this idea of mining social media data has aroused great concern for privacy. For example, in 2018, the personal data of 50millions of Facebook users was used by data mining companies in the United States to design software to predict and influence voter voting. Therefore, how to ensure that personal information is an ethical consequence. Despite the existence of ethical risk, the analysis of social media messages can provide an important basis for more and more industry decisions. Through the long-term record, tracking, analysis and summarization of consumer groups, this system can draw a model of consumers' demand and can effectively help enterprises to make better sales decisions. For example, Spotify, as a music platform that provides personalized music needs, has also used Hadoop to analyze the data of millions of customers in the world to understand their individual needs and provide targeted music recommendation."
      ]
    },
    {
      "cell_type": "markdown",
      "metadata": {
        "id": "rH7BGH6W_soA",
        "colab_type": "text"
      },
      "source": [
        "##5.0 Conclusion\n",
        "In recent years, the rapid development of social media has produced a large amount of useful messages. The analysis of social media information can effectively predict how users can be converted to change their support. However, at present, this idea is also facing technical, effectiveness, and challenges. The system can be designed from three aspects: data storage, data collection and data analysis. Although this research faces moral risks such as privacy, it provides decision-making basis for all sectors of society."
      ]
    }
  ]
}