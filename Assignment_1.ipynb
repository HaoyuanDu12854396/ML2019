{
  "nbformat": 4,
  "nbformat_minor": 0,
  "metadata": {
    "colab": {
      "name": "Assignment 1.ipynb",
      "version": "0.3.2",
      "provenance": [],
      "include_colab_link": true
    },
    "kernelspec": {
      "name": "python3",
      "display_name": "Python 3"
    }
  },
  "cells": [
    {
      "cell_type": "markdown",
      "metadata": {
        "id": "view-in-github",
        "colab_type": "text"
      },
      "source": [
        "<a href=\"https://colab.research.google.com/github/HaoyuanDu12854396/ML2019/blob/master/Assignment_1.ipynb\" target=\"_parent\"><img src=\"https://colab.research.google.com/assets/colab-badge.svg\" alt=\"Open In Colab\"/></a>"
      ]
    },
    {
      "cell_type": "markdown",
      "metadata": {
        "id": "i7LHdBqkuTMr",
        "colab_type": "text"
      },
      "source": [
        "#Assignment 1: Report about [SHA48] INFORMATION THEORY"
      ]
    },
    {
      "cell_type": "markdown",
      "metadata": {
        "id": "KiEFuFM8uTT6",
        "colab_type": "text"
      },
      "source": [
        "##Introduction\n",
        "I choose the [SHA48] INFORMATION THEORY as my paper, SHA48 was A Mathematical Theory of Communication written by Claude Elwood Shannon in 1948\n",
        "Content\n",
        "\n",
        "The research is about .... A theorem has been proved stating ... / An algorithm of ... has been proposed.\n",
        "\n",
        "Innovation\n",
        "The background at the time of the work is that people understood the problem as .... The creative idea is ...\n",
        "\n",
        "Technical quality\n",
        "The technical development if of high/low quality. The authors supported their theory using ...\n",
        "\n",
        "Application and X-factor\n",
        "I find the proposal in the paper promising. ...\n",
        "\n",
        "Presentation\n",
        "The overall strucutre is clear. I found reading is easy / difficult. The paper could have been more attractive if the authors had organised ... / provided ...\n",
        "\n",
        "References"
      ]
    }
  ]
}