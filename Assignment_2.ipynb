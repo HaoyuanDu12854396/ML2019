{
  "nbformat": 4,
  "nbformat_minor": 0,
  "metadata": {
    "colab": {
      "name": "Assignment 2.ipynb",
      "provenance": [],
      "toc_visible": true,
      "include_colab_link": true
    },
    "kernelspec": {
      "name": "python2",
      "display_name": "Python 2"
    }
  },
  "cells": [
    {
      "cell_type": "markdown",
      "metadata": {
        "id": "view-in-github",
        "colab_type": "text"
      },
      "source": [
        "<a href=\"https://colab.research.google.com/github/HaoyuanDu12854396/ML2019/blob/master/Assignment_2.ipynb\" target=\"_parent\"><img src=\"https://colab.research.google.com/assets/colab-badge.svg\" alt=\"Open In Colab\"/></a>"
      ]
    },
    {
      "cell_type": "markdown",
      "metadata": {
        "id": "v8Cq1g9JRd7W",
        "colab_type": "text"
      },
      "source": [
        "#Assignment 2: Practical Mechine Learning Project\n"
      ]
    },
    {
      "cell_type": "markdown",
      "metadata": {
        "id": "82fqWmMHRgcd",
        "colab_type": "text"
      },
      "source": [
        "##Define Problem\n",
        "I tried to alternatively implement a mechanical learning algorithm, but I don't have a good idea to do that, so I finally decided to implement a simple data mining algorithm. I will talk about id3 algorithm. In this article, I introduce the id3 algorithm and show how computer program code corresponds to algorithm steps. In this report, I will use a dummy data which is used for learning data analysis to supplement the description, and this data is divided into two parts, one part is Training and the other part is Testing, in my work, they will be integrated and processed. And the conclusions drawn from this data are not special and can be replicated.\n",
        "These are an overview of the data and an overview of the data after they were integrated for discretization and normalizetion.(I deal with it by R)"
      ]
    },
    {
      "cell_type": "code",
      "metadata": {
        "id": "dueKTXYLcco-",
        "colab_type": "code",
        "colab": {}
      },
      "source": [
        "# activate R magic\n",
        "%load_ext rpy2.ipython"
      ],
      "execution_count": 0,
      "outputs": []
    },
    {
      "cell_type": "code",
      "metadata": {
        "id": "zhdF84B0Sp24",
        "colab_type": "code",
        "outputId": "6b1e61ad-6d17-4f6a-fa95-f74bd855a832",
        "colab": {
          "base_uri": "https://localhost:8080/",
          "height": 125
        }
      },
      "source": [
        "#Get data from my github\n",
        "!git clone https://github.com/HaoyuanDu12854396/ML2019/"
      ],
      "execution_count": 2,
      "outputs": [
        {
          "output_type": "stream",
          "text": [
            "Cloning into 'ML2019'...\n",
            "remote: Enumerating objects: 15, done.\u001b[K\n",
            "remote: Counting objects: 100% (15/15), done.\u001b[K\n",
            "remote: Compressing objects: 100% (15/15), done.\u001b[K\n",
            "remote: Total 99 (delta 5), reused 0 (delta 0), pack-reused 84\u001b[K\n",
            "Unpacking objects: 100% (99/99), done.\n"
          ],
          "name": "stdout"
        }
      ]
    },
    {
      "cell_type": "code",
      "metadata": {
        "id": "vr1WUXvZTO0v",
        "colab_type": "code",
        "outputId": "4925504c-01cd-43db-a7a0-b035b758d94e",
        "colab": {
          "base_uri": "https://localhost:8080/",
          "height": 233
        }
      },
      "source": [
        "!pwd\n",
        "!ls -R"
      ],
      "execution_count": 3,
      "outputs": [
        {
          "output_type": "stream",
          "text": [
            "/content\n",
            ".:\n",
            "ML2019\tsample_data\n",
            "\n",
            "./ML2019:\n",
            " Assignment_1.ipynb\t    Input.csv\t  Training.csv\n",
            "'Decision tree model.png'   Testing.csv   Work.csv\n",
            "\n",
            "./sample_data:\n",
            "anscombe.json\t\t      mnist_test.csv\n",
            "california_housing_test.csv   mnist_train_small.csv\n",
            "california_housing_train.csv  README.md\n"
          ],
          "name": "stdout"
        }
      ]
    },
    {
      "cell_type": "code",
      "metadata": {
        "id": "jIPFX7rcUDCq",
        "colab_type": "code",
        "colab": {}
      },
      "source": [
        "%%R\n",
        "#Importing csv files\n",
        "Testing <- read.csv('./ML2019/Testing.csv')\n",
        "Training <- read.csv('./ML2019/Training.csv')\n",
        "Input <- read.csv('./ML2019/Input.csv')"
      ],
      "execution_count": 0,
      "outputs": []
    },
    {
      "cell_type": "markdown",
      "metadata": {
        "id": "f0nlSBiOiDDw",
        "colab_type": "text"
      },
      "source": [
        "These are a summary of the data and a summary of the data after they were integrated for discretization and normalizetion."
      ]
    },
    {
      "cell_type": "markdown",
      "metadata": {
        "id": "mYWdXPcaigTv",
        "colab_type": "text"
      },
      "source": [
        "Summary of Testing;"
      ]
    },
    {
      "cell_type": "code",
      "metadata": {
        "id": "p9EJNyhqikpB",
        "colab_type": "code",
        "outputId": "1420ffe6-479b-46e8-8dba-c495a4f2f781",
        "colab": {
          "base_uri": "https://localhost:8080/",
          "height": 341
        }
      },
      "source": [
        "%%R\n",
        "#Summary of Testing\n",
        "summary(is.na(Testing))"
      ],
      "execution_count": 5,
      "outputs": [
        {
          "output_type": "display_data",
          "data": {
            "text/plain": [
              "   row.ID           age             job           marital       \n",
              " Mode :logical   Mode :logical   Mode :logical   Mode :logical  \n",
              " FALSE:8238      FALSE:8238      FALSE:8238      FALSE:8238     \n",
              " education        default         housing           loan        \n",
              " Mode :logical   Mode :logical   Mode :logical   Mode :logical  \n",
              " FALSE:8238      FALSE:8238      FALSE:8238      FALSE:8238     \n",
              "  contact          month         day_of_week      duration      \n",
              " Mode :logical   Mode :logical   Mode :logical   Mode :logical  \n",
              " FALSE:8238      FALSE:8238      FALSE:8238      FALSE:8238     \n",
              "  campaign         pdays          previous        poutcome      \n",
              " Mode :logical   Mode :logical   Mode :logical   Mode :logical  \n",
              " FALSE:8238      FALSE:8238      FALSE:8238      FALSE:8238     \n",
              " emp.var.rate    cons.price.idx  cons.conf.idx   euribor3m      \n",
              " Mode :logical   Mode :logical   Mode :logical   Mode :logical  \n",
              " FALSE:8238      FALSE:8238      FALSE:8238      FALSE:8238     \n",
              " nr.employed    \n",
              " Mode :logical  \n",
              " FALSE:8238     \n"
            ]
          },
          "metadata": {
            "tags": []
          }
        }
      ]
    },
    {
      "cell_type": "markdown",
      "metadata": {
        "id": "EaSqG0N9jgVW",
        "colab_type": "text"
      },
      "source": [
        "Summary of Training;"
      ]
    },
    {
      "cell_type": "code",
      "metadata": {
        "id": "LG-L4gnxje6n",
        "colab_type": "code",
        "outputId": "e808db80-7b69-43bb-9d98-3fad4e2cedb0",
        "colab": {
          "base_uri": "https://localhost:8080/",
          "height": 341
        }
      },
      "source": [
        "%%R\n",
        "#Summary of Training\n",
        "summary(is.na(Training))"
      ],
      "execution_count": 6,
      "outputs": [
        {
          "output_type": "display_data",
          "data": {
            "text/plain": [
              "   row.ID           age             job           marital       \n",
              " Mode :logical   Mode :logical   Mode :logical   Mode :logical  \n",
              " FALSE:32950     FALSE:32950     FALSE:32950     FALSE:32950    \n",
              " education        default         housing           loan        \n",
              " Mode :logical   Mode :logical   Mode :logical   Mode :logical  \n",
              " FALSE:32950     FALSE:32950     FALSE:32950     FALSE:32950    \n",
              "  contact          month         day_of_week      duration      \n",
              " Mode :logical   Mode :logical   Mode :logical   Mode :logical  \n",
              " FALSE:32950     FALSE:32950     FALSE:32950     FALSE:32950    \n",
              "  campaign         pdays          previous        poutcome      \n",
              " Mode :logical   Mode :logical   Mode :logical   Mode :logical  \n",
              " FALSE:32950     FALSE:32950     FALSE:32950     FALSE:32950    \n",
              " emp.var.rate    cons.price.idx  cons.conf.idx   euribor3m      \n",
              " Mode :logical   Mode :logical   Mode :logical   Mode :logical  \n",
              " FALSE:32950     FALSE:32950     FALSE:32950     FALSE:32950    \n",
              " nr.employed      Final_Y       \n",
              " Mode :logical   Mode :logical  \n",
              " FALSE:32950     FALSE:32950    \n"
            ]
          },
          "metadata": {
            "tags": []
          }
        }
      ]
    },
    {
      "cell_type": "markdown",
      "metadata": {
        "id": "VMsEiGaIjsR0",
        "colab_type": "text"
      },
      "source": [
        "Summary of the data after they were integrated for discretization and normalizetion:"
      ]
    },
    {
      "cell_type": "code",
      "metadata": {
        "id": "pnL2N6RrjyOl",
        "colab_type": "code",
        "outputId": "1bad26a9-70e8-4192-f92f-37de6ec9e4a1",
        "colab": {
          "base_uri": "https://localhost:8080/",
          "height": 395
        }
      },
      "source": [
        "%%R\n",
        "#Summary of the data after they were integrated for discretization and normalizetion\n",
        " #normalize input data \n",
        "  normalize <- function(x) { return ((x-min(x))/(max(x)-min(x))) }\n",
        "  input <- as.data.frame(lapply(Input[1:(length(Input[1,])-1)],normalize)) \n",
        "  print(str(input))"
      ],
      "execution_count": 7,
      "outputs": [
        {
          "output_type": "display_data",
          "data": {
            "text/plain": [
              "'data.frame':\t41188 obs. of  19 variables:\n",
              " $ age           : num  0.481 0.494 0.284 0.481 0.346 ...\n",
              " $ job           : num  0.273 0.636 0 0.636 0.636 ...\n",
              " $ marital       : num  0.333 0.333 0.333 0.333 0.333 ...\n",
              " $ education     : num  0 0.429 0.143 0.429 0.286 ...\n",
              " $ housing       : num  0 0 0 0 0 0 0 1 1 0 ...\n",
              " $ loan          : num  0 0 0 1 0 0 0 0 0 0 ...\n",
              " $ contact       : num  1 1 1 1 1 1 1 1 1 1 ...\n",
              " $ month         : num  0.5 0.5 0.5 0.5 0.5 0.5 0.5 0.5 0.5 0.5 ...\n",
              " $ day_of_week   : num  0 0 0 0 0 0 0 0 0 0 ...\n",
              " $ duration      : num  0.0531 0.0303 0.0307 0.0624 0.0403 ...\n",
              " $ campaign      : num  0 0 0 0 0 0 0 0 0 0 ...\n",
              " $ pdays         : num  1 1 1 1 1 1 1 1 1 1 ...\n",
              " $ previous      : num  0 0 0 0 0 0 0 0 0 0 ...\n",
              " $ poutcome      : num  0.5 0.5 0.5 0.5 0.5 0.5 0.5 0.5 0.5 0.5 ...\n",
              " $ emp.var.rate  : num  0.938 0.938 0.938 0.938 0.938 ...\n",
              " $ cons.price.idx: num  0.699 0.699 0.699 0.699 0.699 ...\n",
              " $ cons.conf.idx : num  0.603 0.603 0.603 0.603 0.603 ...\n",
              " $ euribor3m     : num  0.957 0.957 0.957 0.957 0.957 ...\n",
              " $ nr.employed   : num  0.86 0.86 0.86 0.86 0.86 ...\n",
              "NULL\n"
            ]
          },
          "metadata": {
            "tags": []
          }
        }
      ]
    },
    {
      "cell_type": "markdown",
      "metadata": {
        "id": "tbQKb_lKkGkk",
        "colab_type": "text"
      },
      "source": [
        "##Algorithm Discussion\n",
        "ID3 is a classic algorithm in machine learning. The decision tree is a tree structure similar to the flow chart : each internal node represents a test on an attribute, each A branch represents an attribute output, and each leaf node represents a class or class distribution, and the topmost layer of the tree is a root node. \n",
        "\n"
      ]
    },
    {
      "cell_type": "markdown",
      "metadata": {
        "id": "kcII-XsbwpZj",
        "colab_type": "text"
      },
      "source": [
        "###ID3 algorithm step description\n",
        "The overall idea: each time the sample is divided according to the best partitioning attribute, and the category with the largest number of samples in the leaf node is the category of the current leaf node.\n",
        "The following picture is the decision tree I exported via R\n",
        "![替代文字](https://raw.githubusercontent.com/HaoyuanDu12854396/ML2019/master/Decision%20tree%20model.png)\n",
        "\n",
        "Input: Data Set（Any preprocessed data set,like Work.csv whose difference for Input.csv is that I deleted the title and add a row id.）\n",
        "\n",
        "Output: Decision tree"
      ]
    },
    {
      "cell_type": "markdown",
      "metadata": {
        "id": "qDoYOtoeRUm-",
        "colab_type": "text"
      },
      "source": [
        "####1. Input"
      ]
    },
    {
      "cell_type": "code",
      "metadata": {
        "id": "cSEOxowERm6o",
        "colab_type": "code",
        "colab": {}
      },
      "source": [
        "import pandas\n",
        "import numpy as np\n",
        "columna = [\"age\",\t\"job\",\"marital\",\"education\",\"housing\",\n",
        "           \"loan\",\"contact\",\"month\",\"day_of_week\",\"duration\",\n",
        "           \"campaign\",\"pdays\",\"previous\",\"poutcome\",\"emp.var.rate\",\"cons.price.idx\"\n",
        "           \"cons.conf.idx\",\t\"euribor3m\",\"nr.employed\",\"Final_Y\"]\n",
        "Work = pandas.read_csv('./ML2019/Work.csv', names=columna)\n",
        "change_data = np.array(Work)\n",
        "data=change_data.tolist()\n",
        "Work=list(Work.columns)\n"
      ],
      "execution_count": 0,
      "outputs": []
    },
    {
      "cell_type": "markdown",
      "metadata": {
        "id": "vfIK_BVMwyzj",
        "colab_type": "text"
      },
      "source": [
        "####2. Definition entropy"
      ]
    },
    {
      "cell_type": "code",
      "metadata": {
        "id": "6hPomk8XkTec",
        "colab_type": "code",
        "colab": {}
      },
      "source": [
        "from math import log\n",
        "def calc_entropy(Work):\n",
        "  num=lan(Work)#statistical sample number\n",
        "  labelcouts={}#initialize label\n",
        "#build label\n",
        "  for feature in Work:\n",
        "    ylabel=feature[-1]\n",
        "    if ylable not in labelcounts.keys():\n",
        "      labelcounts[ylabel]=0 #add label\n",
        "    labelcunts[ylabel]+=1 \n",
        "  entropy=0.0#initialize entropy\n",
        "#calculat entropy\n",
        "  for key in labelcounts:\n",
        "    prob=float(labelcounts[key])/num#calculat probability\n",
        "    entropy -=prob*log(prob,2)#calculat entropy\n",
        "  return entropy"
      ],
      "execution_count": 0,
      "outputs": []
    },
    {
      "cell_type": "markdown",
      "metadata": {
        "id": "KBmoN4e53WkE",
        "colab_type": "text"
      },
      "source": [
        "####3. Looking for best splitting variables"
      ]
    },
    {
      "cell_type": "code",
      "metadata": {
        "id": "wMY3mMJd3xWK",
        "colab_type": "code",
        "colab": {}
      },
      "source": [
        "#Use dataset partitioning to calculate the function of entropy\n",
        "def choose_best_split(Work):\n",
        "  enrtroy_base=calc_entropy(Work)#calculat initial entropy\n",
        "  num=len(dataset[0])-1 #X\n",
        "  best_info_gain=0.0;\n",
        "  best_feature=-1\n",
        "  for i in range(num):#traversing the variables that each column needs to split\n",
        "    featlist=[example[i] for example in Work] #value of column X\n",
        "    unique_values=set(featlist) #values that are not repeated in column X\n",
        "    entroy_new=0.0#initialization condition entropy\n",
        "    for value in uniqu_values:#traversing the values that are not repeated in column X\n",
        "      sub_dataset=splitdata(Work,i,value)#distinguish X column\n",
        "      prob=len(sub_dataset)/float(len(Work))#calculat probability\n",
        "      entroy_new+=prob*calc_entropy(sub_dataset)\n",
        "    info_gain=entroy_base-entrroy_new\n",
        "    #calculat best splitting variables\n",
        "    if(info_gain>best_info_gain):\n",
        "      best_info_gain=info_gain\n",
        "      best_feature=i\n",
        "  return best_feature"
      ],
      "execution_count": 0,
      "outputs": []
    },
    {
      "cell_type": "markdown",
      "metadata": {
        "id": "XtUoMbnf9VHw",
        "colab_type": "text"
      },
      "source": [
        "####4. Defining majority voting method"
      ]
    },
    {
      "cell_type": "code",
      "metadata": {
        "id": "UX3pEDD29gTK",
        "colab_type": "code",
        "colab": {}
      },
      "source": [
        "import operator\n",
        "def majoritycnt(classlist):\n",
        "    classcounts={}\n",
        "    for vote in classlist:\n",
        "        if vote not in classcounts.keys():\n",
        "            classcounts[vote]=0\n",
        "            classcounts[vote]+=1\n",
        "        sorted_classcount=sorted(classcounts.iteritems(),\n",
        "                                 key=operator.itemgeeter(1),reverse=True)\n",
        "        return sorted_classcount[0][0]\n"
      ],
      "execution_count": 0,
      "outputs": []
    },
    {
      "cell_type": "markdown",
      "metadata": {
        "id": "E8Vbi8n5-Z3F",
        "colab_type": "text"
      },
      "source": [
        "####5. Build tree"
      ]
    },
    {
      "cell_type": "code",
      "metadata": {
        "id": "fS_q-j-h-fnd",
        "colab_type": "code",
        "colab": {}
      },
      "source": [
        "def create_tree(Work,labels):\n",
        "  classlist = [example[-1] for example in dataset]#different Y\n",
        "  #Condition one:All y of dataset is same, return that label\n",
        "  if classlist. count (classlist [0])==len(classlist):\n",
        "      return classlist [o] #return this label\n",
        "  #Coudition two:All label used\n",
        "  if len(dataset [0])==1:#travesing all\n",
        "      return majoritycnt (classlist)\n",
        "  best_feature=choose_best_split(dataset) #find the column where the optimal split is located\n",
        "  best_feature_label=labels[best_feature] #give label\n",
        "  my_tree= {best_feature_label:{}}#build new tree\n",
        "  del(labels[best_feature])\n",
        "  feature_values= [example [best_feature] for example in dataset] \n",
        "  unique_values=set (feature_values) \n",
        "  for value in unique_values:\n",
        "      sublabels =labels [:]\n",
        "      #build tree\n",
        "      my_tree[best_feature_label][value]=create_tree(splitdata(dataset,best_feature,value),sublabels)\n",
        "  return my_tree\n"
      ],
      "execution_count": 0,
      "outputs": []
    },
    {
      "cell_type": "markdown",
      "metadata": {
        "id": "jqQy6nsRI-O3",
        "colab_type": "text"
      },
      "source": [
        "####6. Get tree"
      ]
    },
    {
      "cell_type": "code",
      "metadata": {
        "id": "_orpMQlBJDbC",
        "colab_type": "code",
        "colab": {}
      },
      "source": [
        "#Get the number of nodes\n",
        "def get_leafs_num(mytree):\n",
        "  numleafs=0\n",
        "  firststr=list(mytree.keys())[0]\n",
        "  seconddict=mytree[firststr]\n",
        "  for key in seconddict.keys():#travesing\n",
        "    if type(seconddict[key])==dict:\n",
        "      numleafs+=get_leafs_num(seconddict[key])\n",
        "    else:\n",
        "      numleafs+=1\n",
        "  return numleafs\n",
        "#Get the number of tree layers\n",
        "def get_tree_depth (mytree) :\n",
        "    maxdepth=0\n",
        "    firststr=list(mytree.keys()) [0]\n",
        "    seconddict=mytree [firststr ]\n",
        "    for key in seconddict.keys() :\n",
        "      if type (seconddict[key])==dict:\n",
        "          thisdepth+=get_tree_depth (seconddict[key])\n",
        "      else: \n",
        "          thidepth=1\n",
        "      if thisdepth>maxdepth:\n",
        "          maxdepth= thisdepth\n",
        "    return maxdepth\n",
        "    "
      ],
      "execution_count": 0,
      "outputs": []
    },
    {
      "cell_type": "markdown",
      "metadata": {
        "id": "DNtC0-AsLYRW",
        "colab_type": "text"
      },
      "source": [
        "####7. Show data"
      ]
    },
    {
      "cell_type": "code",
      "metadata": {
        "id": "kZDtjPZzLqd4",
        "colab_type": "code",
        "colab": {}
      },
      "source": [
        "import matplotlib.pyplot as plt\n",
        "decision_node=dict(boxstyle=\"sawtooth\",fc=\"0.8\")\n",
        "leaf_node=dict(boxstyle=\"round4\",fc=\"0.8\")\n",
        "arrow_args=dict (arrowstyle=\"<-\")\n",
        "def plotnode(nodetext, centerpt, parentpt, nodetype):\n",
        "  Createplot.ax1.annotate (nodetext,xy=parentpt, xycoords='axes fraction',\n",
        "                           xytext=centerpt, textcoords='axesfr action',va=\"center\",\n",
        "                           ha=\"center\",bbox=nodetype, arrowprops=arrow_arge)\n",
        "\n",
        "def plotmidtext(cntrpt,parentpt,txtstring):\n",
        "  xmid= (parentpt [0]-cntrpt[0])/2.0+cntrpt [0]\n",
        "  ymid= (parentpt [1]-cntrpt[1])/2.0+cntrpt [1]\n",
        "  createplot.a1.tert (xmid.smid.txtstring)\n",
        "def plottree (mytree, parentpt, nodetxt) :\n",
        "  numleafs=get_leafs_num (mytree)\n",
        "  depth=get_tree_depth (mytree)\n",
        "  firststr=list(mytree.keys0) [0]\n",
        "  cntrpt=(plottree.xoff+(1.0+float(numleafs))/2/plottree.totalW, plottree.yoff)\n",
        "  plotmidtext (cntrpt,parentpt,nodetxt)\n",
        "  plotnode (firststr,cntrpt,parentpt,decisionnode)\n",
        "  seconddict=mytree [firststr]\n",
        "  plottree.yoff=plottree.yoff- 1/plottree.totalD\n",
        "  for key in seconddict.keys ():\n",
        "      if type (secondict[key])==dict:\n",
        "          plottree (seconddict [key], cntrpt, str (key))\n",
        "      else:\n",
        "          plottree. xoff=plottree. xoff+1.0/plottree. totalW\n",
        "          plotnode (seconddict [key], (plottree.xoff,plottree.yoff),cntrpt,leaf_node)\n",
        "          plotmidtext ( (plottree. xoff, plottree. yoff), cntrpt, str (key))\n",
        "  plottree. yoff=plottree. yoff+1/plottree. totalD\n",
        "\n",
        "\n"
      ],
      "execution_count": 0,
      "outputs": []
    },
    {
      "cell_type": "markdown",
      "metadata": {
        "id": "RD0x7ICJPShg",
        "colab_type": "text"
      },
      "source": [
        "####8. Build image "
      ]
    },
    {
      "cell_type": "code",
      "metadata": {
        "id": "peRLo0U2PRuC",
        "colab_type": "code",
        "colab": {}
      },
      "source": [
        "def createplot(intree):\n",
        "    fig=plt.figure(1,facecolor='white')\n",
        "    fig.clf()\n",
        "    axprops=dict(xticks=[],yticks=[])\n",
        "    createplot.ax1=plt.subplot(111,frameon=False,**axprops)\n",
        "    plottree.totalW=float(get_leafs_num(intree))\n",
        "    plottree.totalD=float(get_tree_depth(intree))\n",
        "    plottree.xoff=-0.5/plottree.totalW;\n",
        "    plottree.yoff=1.0;\n",
        "    plottree(intree,(0.5,1.0),'')\n",
        "    plt.show()\n"
      ],
      "execution_count": 0,
      "outputs": []
    },
    {
      "cell_type": "markdown",
      "metadata": {
        "id": "1LHMXmRdQCBl",
        "colab_type": "text"
      },
      "source": [
        "####9. Output"
      ]
    },
    {
      "cell_type": "code",
      "metadata": {
        "id": "OfF6gAvYQZrw",
        "colab_type": "code",
        "colab": {}
      },
      "source": [
        "createplot(Work)"
      ],
      "execution_count": 0,
      "outputs": []
    }
  ]
}